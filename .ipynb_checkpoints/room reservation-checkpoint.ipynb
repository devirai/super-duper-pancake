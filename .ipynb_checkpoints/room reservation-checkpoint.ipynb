{
 "cells": [
  {
   "cell_type": "markdown",
   "metadata": {},
   "source": [
    "Airline / Hotel Reservation System - Create a reservation system which books airline seats or hotel rooms. It charges various rates for particular sections of the plane or hotel. Example, first class is going to cost more than coach. Hotel rooms have penthouse suites which cost more. Keep track of when rooms will be available and can be scheduled."
   ]
  },
  {
   "cell_type": "code",
   "execution_count": 1,
   "metadata": {},
   "outputs": [],
   "source": [
    "class Customer:\n",
    "    \n",
    "    custId = 0\n",
    "    def __init__(self,custName,typeOfroom):        \n",
    "        self.custName = custName\n",
    "        self.typeOfroom = typeOfroom\n",
    "        Customer.custId  += 1\n",
    "        self.customId = Customer.custId\n",
    "                      \n",
    "class Rooms:\n",
    "    def __init__(self,number,idforCust=None,cust_status= None):\n",
    "        self.number = number        \n",
    "        self.idforCust = idforCust               \n",
    "        self.cost = {'penthouse':1000 ,'ordinary':100}\n",
    "        self.cust_status = cust_status\n",
    "             \n",
    "     "
   ]
  },
  {
   "cell_type": "code",
   "execution_count": 2,
   "metadata": {},
   "outputs": [],
   "source": [
    "#from collections import OrderedDict\n",
    "def roomallocate(num,i):\n",
    "    emptylist = []\n",
    "    \n",
    "    for item in range(num , num+i):\n",
    "        emptylist.append(Rooms(item))\n",
    "    return(emptylist)\n",
    "#roommap = OrderedDict()        \n",
    "roommap = {'penthouse':roomallocate(100,5) , 'ordinary':roomallocate(110,5)}\n",
    "    \n",
    "    \n",
    "    \n",
    "    "
   ]
  },
  {
   "cell_type": "code",
   "execution_count": 3,
   "metadata": {},
   "outputs": [],
   "source": [
    "import pdb\n",
    "class Bookings:\n",
    "    #customer list for whom the rooms have been booked(holds customer objects)\n",
    "    customers = []\n",
    "    #Room list holds all Room objects\n",
    "    rooms = []\n",
    "                    \n",
    "    def add_customers(self,name,typeRoom):\n",
    "              \n",
    "        self.customers.append(Customer(name,typeRoom))\n",
    "        return(Customer.custId )\n",
    "                       \n",
    "     #Reservation            \n",
    "    def schedule_Rooms(self,typeofRoom,num,Id):\n",
    "        \n",
    "        self.newlist = roommap[typeofRoom][0:num]        \n",
    "        #storing the information in the room list\n",
    "        for item in roommap[typeofRoom][0:num]:                      \n",
    "            item.idforCust = Id\n",
    "            item.cust_status = 'Reserved'\n",
    "        self.rooms.extend(roommap[typeofRoom][0:num])\n",
    "        #storing the information in the room list       \n",
    "        del roommap[typeofRoom][0:num]      \n",
    "        return(self.newlist)\n",
    "    \n",
    "    # change the status to \"cancelled\" or\"Checked out\"\n",
    "    def cancel_Rooms(self,name,typeofRoom,noofrooms,status):\n",
    "        newlist_delrooms = []\n",
    "        idforcust = []\n",
    "         \n",
    "        # find the id of customer\n",
    "        for item in self.customers:            \n",
    "            if(name == item.custName and typeofRoom == item.typeOfroom):\n",
    "                idforcust.append(item.customId)         \n",
    "        if(len(idforcust)== 0):\n",
    "            return(\"do not have records for {} rooms .Please enter the valid roomtype\".format(typeofRoom))       \n",
    "        #find the rooms which has to be cancelled\n",
    "        #newlist_delrooms has the record for the rooms which can be cancelled\n",
    "        for id_cust in idforcust:\n",
    "            newlist_delrooms.extend([item for item in self.rooms if(id_cust == item.idforCust) and (item.cust_status == 'Reserved')])\n",
    "        newlist_delrooms = newlist_delrooms[0:noofrooms]        \n",
    "        for item in newlist_delrooms:\n",
    "            item.cust_status = status           \n",
    "        self.delete_Customers(idforcust,status)\n",
    "        return(newlist_delrooms)\n",
    "     \n",
    "    #Cancel customer record if all the room entry status says \"cancelled\"  or\"Checked out\"\n",
    "    def delete_Customers(self,customer_id,status):              \n",
    "        bool_val = None        \n",
    "        for id_val in customer_id:            \n",
    "            for item in self.rooms:\n",
    "                if(item.idforCust == id_val):\n",
    "                    if (item.cust_status == status):\n",
    "                        boolvalue = True                        \n",
    "                    else:\n",
    "                        boolvalue = False\n",
    "                        break\n",
    "            #print(boolvalue)\n",
    "            if (boolvalue):\n",
    "                for item in self.customers:\n",
    "                    if(item.customId == id_val):\n",
    "                        self.customers.remove(item)\n",
    "                        \n",
    "    def delete_Rooms(self,cancel_roomlist):\n",
    "        for item1 in cancel_roomlist:\n",
    "            for item2 in Bookings.rooms:\n",
    "                if(item1.number == item2.number):\n",
    "                    Bookings.rooms.remove(item2)\n",
    "            \n",
    "        \n",
    "    def display_rooms(self,room_list):\n",
    "        return([x.number for x in room_list])\n",
    "    \n",
    "    def total_cost_rooms(self,rooms_list,typeofroom):\n",
    "        return sum([item.cost[typeofroom] for item in rooms_list])\n",
    "    \n",
    "    def display_status_cust_room(self,name):\n",
    "        list_cust = []\n",
    "        dict_final = {}\n",
    "            \n",
    "        for item in self.customers:\n",
    "            if(name == item.custName):\n",
    "                list_cust.append(item)\n",
    "                       \n",
    "        for item in list_cust:\n",
    "            list_final = []            \n",
    "            for value in self.rooms:\n",
    "                if(item.customId == value.idforCust):                   \n",
    "                    list_final.append(value)                   \n",
    "            dict_final[item.typeOfroom] = len(list_final)                     \n",
    "                      \n",
    "        return(dict_final)\n",
    "                    \n",
    "       "
   ]
  },
  {
   "cell_type": "code",
   "execution_count": 8,
   "metadata": {},
   "outputs": [
    {
     "name": "stdout",
     "output_type": "stream",
     "text": [
      "enter the customer name\n",
      "mahesh\n",
      "Enter the choice 1:Reservation    2:Cancellation    3:Checkout\n",
      " 2\n",
      " Status of mahesh with type of room and numbers: \n",
      "\n",
      "[] \n",
      "\n",
      "there were no rooms to cancel for mahesh\n",
      "\n",
      "Thank You\n"
     ]
    }
   ],
   "source": [
    "var = \"\"\n",
    "name = input(\"enter the customer name\\n\")\n",
    "\n",
    "bk = Bookings()\n",
    "bookInd = int(input(\"Enter the choice 1:Reservation    2:Cancellation    3:Checkout\\n \"))\n",
    "\n",
    "if(bookInd == 1):\n",
    "    print(\"Enter the Hotel Reservation Sytem \\n\")\n",
    "    while(True):\n",
    "        \n",
    "        typeRoom = input(\"Enter the type of room :penthouse or Ordinary\\n\")   \n",
    "        try: \n",
    "            print(\"the total no of rooms available {}\\n\".format((len(roommap[typeRoom]))))\n",
    "        except:\n",
    "            print(\"Enter the correct type of room\\n\")\n",
    "            continue\n",
    "        if(len(roommap['penthouse']) == 0 and len(roommap['ordinary']) == 0):\n",
    "            print(\"All rooms are booked cannot make any reservation \\n\")\n",
    "            break\n",
    "        elif(len(roommap[typeRoom]) > 0):        \n",
    "            noofRooms = int(input(\"Enter the no of rooms\"))\n",
    "        else:\n",
    "            print(\"The {} rooms are all booked\\n \".format(typeRoom))\n",
    "            var = input(\"would you like to reserve diff room type?\\n\")\n",
    "            if(var[0].lower() == 'y'):\n",
    "                continue\n",
    "            else:\n",
    "                break\n",
    "               \n",
    "        Id = bk.add_customers(name,typeRoom)             \n",
    "        newlist = bk.schedule_Rooms(typeRoom,noofRooms,Id)\n",
    "        #if(newlist):          \n",
    "        print(\"\\n Sucuessfully booked the rooms for Mr./Ms {} \".format(name))\n",
    "        print(\"\\n The room nos are the following : {} \".format(bk.display_rooms(newlist)))\n",
    "        print (\"\\n The total cost of the rooms : {}\".format(sum([item.cost[typeRoom] for item in newlist])))\n",
    "                                       \n",
    "        var = input(\"would you like to make another reservation\")\n",
    "        if(var[0].lower() == 'y'):\n",
    "            continue\n",
    "        else:\n",
    "            break\n",
    "    print(\"Thank You\")\n",
    "    \n",
    "if(bookInd == 2 or bookInd == 3):\n",
    "    if(bookInd == 2):\n",
    "        status = 'Cancelled'\n",
    "    else:\n",
    "        status = 'Checked-Out'\n",
    "      \n",
    "    while(True):\n",
    "        \n",
    "       \n",
    "        dict_final = bk.display_status_cust_room(name)\n",
    "        if( not dict_final):\n",
    "            print(\"there were no rooms to cancel for {}\\n\".format(name))\n",
    "            break\n",
    "        print(\" Status of {} with type of room and numbers: \\n\".format(name))\n",
    "        print(\"{} \\n\".format([(key,value) for key ,value in dict_final.items()]))\n",
    "        \n",
    "           \n",
    "        \n",
    "        try:\n",
    "            typeRoom = input(\"Enter the type of room :penthouse or Ordinary\\n\")\n",
    "            \n",
    "        except:\n",
    "            print(\"Enter the correct type of room\\n\")\n",
    "            continue        \n",
    "        \n",
    "        noofRooms = int(input(\"Enter the no of rooms\"))\n",
    "        if(noofRooms == 0):            \n",
    "            print(\"Please enter the number greater than 0\")\n",
    "            break\n",
    "        else:                      \n",
    "            text_cancel = bk.cancel_Rooms(name,typeRoom,noofRooms,status)\n",
    "            if(type(text_cancel) is str):\n",
    "                print(text_cancel)\n",
    "                continue                        \n",
    "            else:\n",
    "                roommap[typeRoom].extend(roomallocate(text_cancel[0].number,len(text_cancel)))\n",
    "                #sorted(roommap[typeRoom],key=lambda r: r.number)\n",
    "                roommap[typeRoom].sort(key=lambda r: r.number)\n",
    "                bk.delete_Rooms(text_cancel)\n",
    "                if(bookInd == 2):\n",
    "                    print(\"\\n Following rooms have been Cancelled : {}  for {}\".format(bk.display_rooms(text_cancel),name))\n",
    "                else:\n",
    "                    print(\"\\n Following rooms have been Checked-Out: {}  for {}\".format(bk.display_rooms(text_cancel),name))               \n",
    "                    print (\"\\n The total cost of the rooms : {}\".format(bk.total_cost_rooms(text_cancel,typeRoom)))\n",
    "                                       \n",
    "                break\n",
    "                \n",
    "    print(\"Thank You\")\n",
    "        "
   ]
  },
  {
   "cell_type": "code",
   "execution_count": 5,
   "metadata": {},
   "outputs": [
    {
     "name": "stdout",
     "output_type": "stream",
     "text": [
      "1 devika penthouse\n",
      "2 devika ordinary\n"
     ]
    }
   ],
   "source": [
    "for item in Bookings.customers:\n",
    "    print(item.customId,item.custName,item.typeOfroom)\n",
    "    \n"
   ]
  },
  {
   "cell_type": "code",
   "execution_count": 6,
   "metadata": {},
   "outputs": [
    {
     "name": "stdout",
     "output_type": "stream",
     "text": [
      "100 1 Reserved\n",
      "101 1 Reserved\n",
      "102 1 Reserved\n",
      "110 2 Reserved\n",
      "111 2 Reserved\n"
     ]
    }
   ],
   "source": [
    "for item in Bookings.rooms:\n",
    "    print(item.number,item.idforCust,item.cust_status)\n",
    "    \n",
    "    "
   ]
  },
  {
   "cell_type": "code",
   "execution_count": 13,
   "metadata": {},
   "outputs": [
    {
     "name": "stdout",
     "output_type": "stream",
     "text": [
      "102\n",
      "103\n",
      "104\n"
     ]
    }
   ],
   "source": [
    "for item in roommap['penthouse']:\n",
    "    print(item.number)"
   ]
  },
  {
   "cell_type": "code",
   "execution_count": 14,
   "metadata": {},
   "outputs": [
    {
     "name": "stdout",
     "output_type": "stream",
     "text": [
      "112\n",
      "113\n",
      "114\n"
     ]
    }
   ],
   "source": [
    "for item in roommap['ordinary']:\n",
    "    print(item.number)"
   ]
  },
  {
   "cell_type": "code",
   "execution_count": null,
   "metadata": {},
   "outputs": [],
   "source": []
  }
 ],
 "metadata": {
  "kernelspec": {
   "display_name": "Python 3",
   "language": "python",
   "name": "python3"
  },
  "language_info": {
   "codemirror_mode": {
    "name": "ipython",
    "version": 3
   },
   "file_extension": ".py",
   "mimetype": "text/x-python",
   "name": "python",
   "nbconvert_exporter": "python",
   "pygments_lexer": "ipython3",
   "version": "3.7.1"
  }
 },
 "nbformat": 4,
 "nbformat_minor": 2
}
